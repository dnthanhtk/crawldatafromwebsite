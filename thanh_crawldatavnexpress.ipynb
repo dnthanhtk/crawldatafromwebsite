{
  "nbformat": 4,
  "nbformat_minor": 0,
  "metadata": {
    "colab": {
      "name": "thanh-crawldatavnexpress.ipynb",
      "provenance": [],
      "collapsed_sections": [],
      "authorship_tag": "ABX9TyNhiziI+/8ZNW3YizR8ZYTc",
      "include_colab_link": true
    },
    "kernelspec": {
      "name": "python3",
      "display_name": "Python 3"
    },
    "language_info": {
      "name": "python"
    },
    "accelerator": "GPU"
  },
  "cells": [
    {
      "cell_type": "markdown",
      "metadata": {
        "id": "view-in-github",
        "colab_type": "text"
      },
      "source": [
        "<a href=\"https://colab.research.google.com/github/dnthanhtk/crawldatafromwebsite/blob/main/thanh_crawldatavnexpress.ipynb\" target=\"_parent\"><img src=\"https://colab.research.google.com/assets/colab-badge.svg\" alt=\"Open In Colab\"/></a>"
      ]
    },
    {
      "cell_type": "code",
      "metadata": {
        "colab": {
          "base_uri": "https://localhost:8080/"
        },
        "id": "EgP46EqBqEkx",
        "outputId": "9b5c7262-1761-48d9-d9b6-647e892ccea0"
      },
      "source": [
        "from google.colab  import drive\n",
        "drive.mount('/content/drive')"
      ],
      "execution_count": 8,
      "outputs": [
        {
          "output_type": "stream",
          "text": [
            "Drive already mounted at /content/drive; to attempt to forcibly remount, call drive.mount(\"/content/drive\", force_remount=True).\n"
          ],
          "name": "stdout"
        }
      ]
    },
    {
      "cell_type": "code",
      "metadata": {
        "id": "UWOPzemXsM0Z"
      },
      "source": [
        "import requests\n",
        "from requests import get\n",
        "from bs4 import BeautifulSoup\n",
        "import pandas as pd\n",
        "import numpy as np\n",
        "\n",
        "from time import sleep\n",
        "from random import randint"
      ],
      "execution_count": 4,
      "outputs": []
    },
    {
      "cell_type": "code",
      "metadata": {
        "id": "46sO1rh5z7ai"
      },
      "source": [
        "tulieu = []\n",
        "phantich=[]"
      ],
      "execution_count": 33,
      "outputs": []
    },
    {
      "cell_type": "code",
      "metadata": {
        "colab": {
          "base_uri": "https://localhost:8080/"
        },
        "id": "jOD1qpW-0VnI",
        "outputId": "eebd1f78-d1da-4609-f7b7-418a902ce5ac"
      },
      "source": [
        "pages = np.arange(1,35)\n",
        "\n",
        "for page in pages: \n",
        "  print(page)\n",
        "  page = requests.get(\"https://vnexpress.net/the-gioi/tu-lieu-p\" + str(page))\n",
        "\n",
        "  soup_tulieu = BeautifulSoup(page.text, 'html.parser')\n",
        "  news_tulieu = soup_tulieu.find_all('h2', class_='title-news')\n",
        "  \n",
        "  sleep(randint(2,10))\n",
        "\n",
        "  for container in news_tulieu:\n",
        "\n",
        "        name = container.a.text\n",
        "        tulieu.append(name)\n",
        "\n",
        "for page in pages: \n",
        "  print(page)\n",
        "  page = requests.get(\"https://vnexpress.net/the-gioi/phan-tich-p\" + str(page))\n",
        "\n",
        "  soup_phantich = BeautifulSoup(page.text, 'html.parser')\n",
        "  news_phantich = soup_phantich.find_all('h2', class_='title-news')\n",
        "  \n",
        "  sleep(randint(2,10))\n",
        "\n",
        "  for container in news_phantich:\n",
        "\n",
        "        name = container.a.text\n",
        "        phantich.append(name)"
      ],
      "execution_count": 34,
      "outputs": [
        {
          "output_type": "stream",
          "text": [
            "1\n",
            "2\n",
            "3\n",
            "4\n",
            "5\n",
            "6\n",
            "7\n",
            "8\n",
            "9\n",
            "10\n",
            "11\n",
            "12\n",
            "13\n",
            "14\n",
            "15\n",
            "16\n",
            "17\n",
            "18\n",
            "19\n",
            "20\n",
            "21\n",
            "22\n",
            "23\n",
            "24\n",
            "25\n",
            "26\n",
            "27\n",
            "28\n",
            "29\n",
            "30\n",
            "31\n",
            "32\n",
            "33\n",
            "34\n",
            "1\n",
            "2\n",
            "3\n",
            "4\n",
            "5\n",
            "6\n",
            "7\n",
            "8\n",
            "9\n",
            "10\n",
            "11\n",
            "12\n",
            "13\n",
            "14\n",
            "15\n",
            "16\n",
            "17\n",
            "18\n",
            "19\n",
            "20\n",
            "21\n",
            "22\n",
            "23\n",
            "24\n",
            "25\n",
            "26\n",
            "27\n",
            "28\n",
            "29\n",
            "30\n",
            "31\n",
            "32\n",
            "33\n",
            "34\n"
          ],
          "name": "stdout"
        }
      ]
    },
    {
      "cell_type": "code",
      "metadata": {
        "id": "LXUuxv1G0bRH"
      },
      "source": [
        "file = pd.DataFrame({\n",
        "'tulieu': tulieu\n",
        ",'phantich':phantich\n",
        "})"
      ],
      "execution_count": 35,
      "outputs": []
    },
    {
      "cell_type": "code",
      "metadata": {
        "id": "Vd5Y1s9XvVIR"
      },
      "source": [
        "file.to_csv('/content/drive/MyDrive/TTS AI/crawldata/vnexpress.csv')"
      ],
      "execution_count": 36,
      "outputs": []
    }
  ]
}