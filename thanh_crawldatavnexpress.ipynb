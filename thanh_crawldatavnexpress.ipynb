{
  "nbformat": 4,
  "nbformat_minor": 0,
  "metadata": {
    "colab": {
      "name": "thanh-crawldatavnexpress.ipynb",
      "provenance": [],
      "collapsed_sections": [],
      "include_colab_link": true
    },
    "kernelspec": {
      "name": "python3",
      "display_name": "Python 3"
    },
    "language_info": {
      "name": "python"
    },
    "accelerator": "GPU"
  },
  "cells": [
    {
      "cell_type": "markdown",
      "metadata": {
        "id": "view-in-github",
        "colab_type": "text"
      },
      "source": [
        "<a href=\"https://colab.research.google.com/github/dnthanhtk/crawldatafromwebsite/blob/main/thanh_crawldatavnexpress.ipynb\" target=\"_parent\"><img src=\"https://colab.research.google.com/assets/colab-badge.svg\" alt=\"Open In Colab\"/></a>"
      ]
    },
    {
      "cell_type": "markdown",
      "metadata": {
        "id": "UAqlRESq9YKH"
      },
      "source": [
        "Mount  drive "
      ]
    },
    {
      "cell_type": "code",
      "metadata": {
        "colab": {
          "base_uri": "https://localhost:8080/"
        },
        "id": "EgP46EqBqEkx",
        "outputId": "9b5c7262-1761-48d9-d9b6-647e892ccea0"
      },
      "source": [
        "from google.colab  import drive\n",
        "drive.mount('/content/drive')"
      ],
      "execution_count": null,
      "outputs": [
        {
          "output_type": "stream",
          "text": [
            "Drive already mounted at /content/drive; to attempt to forcibly remount, call drive.mount(\"/content/drive\", force_remount=True).\n"
          ],
          "name": "stdout"
        }
      ]
    },
    {
      "cell_type": "markdown",
      "metadata": {
        "id": "GIQxbR7z9pAR"
      },
      "source": [
        "Import"
      ]
    },
    {
      "cell_type": "code",
      "metadata": {
        "id": "UWOPzemXsM0Z"
      },
      "source": [
        "import requests\n",
        "from requests import get #lay du lieu tu dia chi web\n",
        "from bs4 import BeautifulSoup #dung bs4 de crawl data\n",
        "import pandas as pd\n",
        "import numpy as np\n",
        "\n",
        "from time import sleep #tranh cho trang web bi crash\n",
        "from random import randint"
      ],
      "execution_count": null,
      "outputs": []
    },
    {
      "cell_type": "code",
      "metadata": {
        "id": "46sO1rh5z7ai"
      },
      "source": [
        "tulieu = []\n",
        "phantich=[]"
      ],
      "execution_count": null,
      "outputs": []
    },
    {
      "cell_type": "code",
      "metadata": {
        "id": "jOD1qpW-0VnI"
      },
      "source": [
        "pages = np.arange(1,35) #1 trang co 30 title -> lay 34 trang -> 1020 bai\n",
        "\n",
        "for page in pages: \n",
        "  #print(page)\n",
        "  #dia chi web trang 1: https://vnexpress.net/the-gioi/tu-lieu-p1\n",
        "  #dia chi web trang 2: https://vnexpress.net/the-gioi/tu-lieu-p2\n",
        "  page = requests.get(\"https://vnexpress.net/the-gioi/tu-lieu-p\" + str(page))\n",
        "\n",
        "\n",
        "  soup_tulieu = BeautifulSoup(page.text, 'html.parser')  #dung html.parser\n",
        "  news_tulieu = soup_tulieu.find_all('h2', class_='title-news') #tim cac the <h2 class=title-new\n",
        "  \n",
        "  sleep(randint(2,10)) #dung tu 2-10s de tranh web bi crash\n",
        "\n",
        "  for container in news_tulieu:\n",
        "\n",
        "        name = container.a.text #the co tag la a, neu khong de text se lay ca tag <a .... /a>\n",
        "        tulieu.append(name)#ghep vao tulieu\n",
        "\n",
        "for page in pages: \n",
        "  #print(page)\n",
        "  page = requests.get(\"https://vnexpress.net/the-gioi/phan-tich-p\" + str(page))\n",
        "\n",
        "  soup_phantich = BeautifulSoup(page.text, 'html.parser')\n",
        "  news_phantich = soup_phantich.find_all('h2', class_='title-news')\n",
        "  \n",
        "  sleep(randint(2,10))\n",
        "\n",
        "  for container in news_phantich:\n",
        "\n",
        "        name = container.a.text\n",
        "        phantich.append(name)"
      ],
      "execution_count": null,
      "outputs": []
    },
    {
      "cell_type": "code",
      "metadata": {
        "id": "LXUuxv1G0bRH"
      },
      "source": [
        "file = pd.DataFrame({ #tao bang co 2 cot tulieu va phantich\n",
        "'tulieu': tulieu\n",
        ",'phantich':phantich\n",
        "})"
      ],
      "execution_count": null,
      "outputs": []
    },
    {
      "cell_type": "code",
      "metadata": {
        "id": "Vd5Y1s9XvVIR"
      },
      "source": [
        "file.to_csv('/content/drive/MyDrive/TTS AI/crawldata/vnexpress.csv')#xuat ra file csv luu vao drive"
      ],
      "execution_count": null,
      "outputs": []
    }
  ]
}